{
 "cells": [
  {
   "cell_type": "code",
   "execution_count": 2,
   "id": "4dc6f456",
   "metadata": {},
   "outputs": [],
   "source": [
    "import numpy as np\n",
    "# pandas\n",
    "import pandas as pd \n",
    "# seaborn\n",
    "import seaborn as sns"
   ]
  },
  {
   "cell_type": "code",
   "execution_count": 3,
   "id": "2f0e6035",
   "metadata": {},
   "outputs": [],
   "source": [
    "wine =pd.read_csv('./wine_data_final2.csv')\n"
   ]
  },
  {
   "cell_type": "code",
   "execution_count": 4,
   "id": "2dcf6c1b",
   "metadata": {},
   "outputs": [],
   "source": [
    "searchfor = ['rich', 'berries', 'oak', 'wood', 'earthy', 'herb', 'dry', 'acidity', 'balance', 'smoky',\n",
    "'crisp', 'tannins', 'heavy', 'solid', 'sweet', 'full-bodied']"
   ]
  },
  {
   "cell_type": "code",
   "execution_count": 5,
   "id": "bfe1a8ee",
   "metadata": {},
   "outputs": [],
   "source": [
    "keyword = []\n",
    "for i in wine['description'] :\n",
    "    tmpval = []\n",
    "    for j in searchfor :\n",
    "        if j in i :\n",
    "           tmpval.append(j)\n",
    "    keyword.append(tmpval)\n",
    "wine['keyword'] = keyword"
   ]
  },
  {
   "cell_type": "code",
   "execution_count": 6,
   "id": "9139a154",
   "metadata": {},
   "outputs": [
    {
     "name": "stdout",
     "output_type": "stream",
     "text": [
      "       Unnamed: 0   index       country  \\\n",
      "0               0     123     Australia   \n",
      "1               1     124            US   \n",
      "2               2     125  South Africa   \n",
      "3               3     127        France   \n",
      "4               4     132  South Africa   \n",
      "...           ...     ...           ...   \n",
      "17803       17803  129947         Italy   \n",
      "17804       17804  129956   New Zealand   \n",
      "17805       17805  129958   New Zealand   \n",
      "17806       17806  129960      Portugal   \n",
      "17807       17807  129963        Israel   \n",
      "\n",
      "                                             description  \\\n",
      "0      The blend is roughly two-thirds Shiraz and one...   \n",
      "1      This sophisticated wine is mostly Cabernet Sau...   \n",
      "2      Etienne Le Riche is a total Cabernet specialis...   \n",
      "3      Attractive mid-gold color with intense aromas ...   \n",
      "4      A Cabernet-dominated (98%) wine, which boasts ...   \n",
      "...                                                  ...   \n",
      "17803  A blend of 65% Cabernet Sauvignon, 30% Merlot ...   \n",
      "17804  The blend is 44% Merlot, 33% Cabernet Sauvigno...   \n",
      "17805  This blend of Cabernet Sauvignon-Merlot and Ca...   \n",
      "17806  Fresh and fruity, this is full of red cherry f...   \n",
      "17807  A bouquet of black cherry, tart cranberry and ...   \n",
      "\n",
      "                                             designation  points  price  \\\n",
      "0                                          Parson's Flat      92   40.0   \n",
      "1                                                    NaN      92   45.0   \n",
      "2                             Cabernet Sauvignon Reserve      91   45.0   \n",
      "3                                             Alsace One      91   13.0   \n",
      "4                                          Grand Reserve      91   30.0   \n",
      "...                                                  ...     ...    ...   \n",
      "17803                                           Symposio      90   20.0   \n",
      "17804  Gimblett Gravels Merlot-Cabernet Sauvignon-Malbec      90   19.0   \n",
      "17805                                           Irongate      90   35.0   \n",
      "17806                                            Vértice      90   48.0   \n",
      "17807                                           Oak Aged      90   20.0   \n",
      "\n",
      "                      province         region_1 region_2     taster_name  \\\n",
      "0              South Australia        Padthaway      NaN  Joe Czerwinski   \n",
      "1                   California      Napa Valley     Napa             NaN   \n",
      "2                 Stellenbosch              NaN      NaN      Roger Voss   \n",
      "3                       Alsace           Alsace      NaN             NaN   \n",
      "4      Simonsberg-Stellenbosch              NaN      NaN      Roger Voss   \n",
      "...                        ...              ...      ...             ...   \n",
      "17803        Sicily & Sardinia  Terre Siciliane      NaN   Kerin O’Keefe   \n",
      "17804              Hawke's Bay              NaN      NaN  Joe Czerwinski   \n",
      "17805              Hawke's Bay              NaN      NaN  Joe Czerwinski   \n",
      "17806                    Douro              NaN      NaN      Roger Voss   \n",
      "17807                  Galilee              NaN      NaN   Mike DeSimone   \n",
      "\n",
      "      taster_twitter_handle  \\\n",
      "0                    @JoeCz   \n",
      "1                       NaN   \n",
      "2                @vossroger   \n",
      "3                       NaN   \n",
      "4                @vossroger   \n",
      "...                     ...   \n",
      "17803          @kerinokeefe   \n",
      "17804                @JoeCz   \n",
      "17805                @JoeCz   \n",
      "17806            @vossroger   \n",
      "17807        @worldwineguys   \n",
      "\n",
      "                                                   title  \\\n",
      "0      Henry's Drive Vignerons 2006 Parson's Flat Shi...   \n",
      "1        Silverado 2006 Cabernet Sauvignon (Napa Valley)   \n",
      "2      Le Riche 2003 Cabernet Sauvignon Reserve Caber...   \n",
      "3            Pierre Sparr 2008 Alsace One White (Alsace)   \n",
      "4      Delheim 2001 Grand Reserve Cabernet Sauvignon ...   \n",
      "...                                                  ...   \n",
      "17803  Feudo Principi di Butera 2012 Symposio Red (Te...   \n",
      "17804  Esk Valley 2011 Gimblett Gravels Merlot-Cabern...   \n",
      "17805             Babich 2010 Irongate Red (Hawke's Bay)   \n",
      "17806  Caves Transmontanas 2006 Vértice Pinot Noir (D...   \n",
      "17807  Dalton 2012 Oak Aged Cabernet Sauvignon (Galilee)   \n",
      "\n",
      "                         variety                    winery  \\\n",
      "0      Shiraz-Cabernet Sauvignon   Henry's Drive Vignerons   \n",
      "1             Cabernet Sauvignon                 Silverado   \n",
      "2             Cabernet Sauvignon                  Le Riche   \n",
      "3                    White Blend              Pierre Sparr   \n",
      "4             Cabernet Sauvignon                   Delheim   \n",
      "...                          ...                       ...   \n",
      "17803                  Red Blend  Feudo Principi di Butera   \n",
      "17804   Bordeaux-style Red Blend                Esk Valley   \n",
      "17805   Bordeaux-style Red Blend                    Babich   \n",
      "17806                 Pinot Noir       Caves Transmontanas   \n",
      "17807         Cabernet Sauvignon                    Dalton   \n",
      "\n",
      "                              keyword  \n",
      "0                      [berries, oak]  \n",
      "1      [berries, oak, smoky, tannins]  \n",
      "2                     [wood, tannins]  \n",
      "3              [rich, acidity, crisp]  \n",
      "4                              [wood]  \n",
      "...                               ...  \n",
      "17803                       [tannins]  \n",
      "17804                   [full-bodied]  \n",
      "17805                       [tannins]  \n",
      "17806                [acidity, crisp]  \n",
      "17807                       [tannins]  \n",
      "\n",
      "[17808 rows x 16 columns]\n"
     ]
    }
   ],
   "source": [
    "print(wine)"
   ]
  },
  {
   "cell_type": "code",
   "execution_count": 7,
   "id": "5c09a51c",
   "metadata": {
    "scrolled": true
   },
   "outputs": [
    {
     "name": "stdout",
     "output_type": "stream",
     "text": [
      "The blend is roughly two-thirds Shiraz and one-third Cabernet, and the result combines berries with cassis and generosity with structure, all framed by toasty oak. Savory in character, long and dusty on the finish. Drink now-2018.\n"
     ]
    }
   ],
   "source": [
    "print(wine['description'][0])"
   ]
  },
  {
   "cell_type": "code",
   "execution_count": 9,
   "id": "cb7251db",
   "metadata": {},
   "outputs": [],
   "source": [
    "wine.to_csv('./wine_with_keyword.csv')"
   ]
  },
  {
   "cell_type": "code",
   "execution_count": null,
   "id": "e420a205",
   "metadata": {},
   "outputs": [],
   "source": []
  }
 ],
 "metadata": {
  "kernelspec": {
   "display_name": "Python 3 (ipykernel)",
   "language": "python",
   "name": "python3"
  },
  "language_info": {
   "codemirror_mode": {
    "name": "ipython",
    "version": 3
   },
   "file_extension": ".py",
   "mimetype": "text/x-python",
   "name": "python",
   "nbconvert_exporter": "python",
   "pygments_lexer": "ipython3",
   "version": "3.9.7"
  }
 },
 "nbformat": 4,
 "nbformat_minor": 5
}
